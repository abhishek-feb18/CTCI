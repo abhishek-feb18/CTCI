{
 "cells": [
  {
   "cell_type": "code",
   "execution_count": 1,
   "metadata": {},
   "outputs": [],
   "source": [
    "import numpy as np\n",
    "import pandas as pd\n",
    "import copy"
   ]
  },
  {
   "cell_type": "code",
   "execution_count": 16,
   "metadata": {},
   "outputs": [],
   "source": [
    "# Create a LinkedList and a Node class for use in this chapter\n",
    "\n",
    "class LinkedList():\n",
    "    def __init__(self, head=None):\n",
    "        self.head = head\n",
    "\n",
    "class Node():\n",
    "    def __init__(self, value, next=None):\n",
    "        self.value = value\n",
    "        self.next = next"
   ]
  },
  {
   "cell_type": "code",
   "execution_count": 28,
   "metadata": {},
   "outputs": [],
   "source": [
    "n5 = Node(2)\n",
    "n4 = Node(2,n5)\n",
    "n3 = Node(2,n4)\n",
    "n2 = Node(2,n3)\n",
    "n1 = Node(1,n2)\n",
    "\n",
    "ll = LinkedList(n1)"
   ]
  },
  {
   "cell_type": "code",
   "execution_count": 29,
   "metadata": {},
   "outputs": [
    {
     "name": "stdout",
     "output_type": "stream",
     "text": [
      "1\n",
      "2\n",
      "2\n",
      "2\n",
      "2\n"
     ]
    }
   ],
   "source": [
    "current = ll.head\n",
    "while current != None:\n",
    "    print(current.value)\n",
    "    current = current.next"
   ]
  },
  {
   "cell_type": "code",
   "execution_count": 30,
   "metadata": {},
   "outputs": [],
   "source": [
    "#2.1 Remove dups from an unsorted linked list\n",
    "def removeDup(ll):\n",
    "    check = set()\n",
    "    current = ll.head\n",
    "    while current != None:\n",
    "        if current.value not in check:\n",
    "            check.add(current.value)\n",
    "            prev = current\n",
    "            current = current.next\n",
    "        else:\n",
    "            prev.next = current.next\n",
    "            current = current.next\n",
    "    return ll"
   ]
  },
  {
   "cell_type": "code",
   "execution_count": 31,
   "metadata": {},
   "outputs": [
    {
     "name": "stdout",
     "output_type": "stream",
     "text": [
      "1\n",
      "2\n"
     ]
    }
   ],
   "source": [
    "removeDup(ll)\n",
    "current = ll.head\n",
    "while current != None:\n",
    "    print(current.value)\n",
    "    current = current.next"
   ]
  },
  {
   "cell_type": "markdown",
   "metadata": {},
   "source": [
    "Time O(n)\n",
    "\n",
    "Space O(n)\n",
    "\n",
    "If we can't use set, the time will be O(n^2)"
   ]
  },
  {
   "cell_type": "code",
   "execution_count": null,
   "metadata": {},
   "outputs": [],
   "source": []
  }
 ],
 "metadata": {
  "kernelspec": {
   "display_name": "Python 3",
   "language": "python",
   "name": "python3"
  },
  "language_info": {
   "codemirror_mode": {
    "name": "ipython",
    "version": 3
   },
   "file_extension": ".py",
   "mimetype": "text/x-python",
   "name": "python",
   "nbconvert_exporter": "python",
   "pygments_lexer": "ipython3",
   "version": "3.7.6"
  }
 },
 "nbformat": 4,
 "nbformat_minor": 4
}
