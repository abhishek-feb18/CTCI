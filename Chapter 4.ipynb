{
 "cells": [
  {
   "cell_type": "markdown",
   "metadata": {},
   "source": [
    "# Chapter 4 - Trees and Graphs"
   ]
  },
  {
   "cell_type": "code",
   "execution_count": 1,
   "metadata": {},
   "outputs": [],
   "source": [
    "import copy\n",
    "# Define tree nodes\n",
    "class Node():\n",
    "    def __init__(self, val = None, name = None):\n",
    "        self.name = name\n",
    "        self.val = val\n",
    "        self.left = None\n",
    "        self.right = None\n",
    "        \n",
    "    def __str__(self):\n",
    "        return self.name\n",
    "\n",
    "# We can choose to wrap in a class Tree, but we can also just use nodes directly "
   ]
  },
  {
   "cell_type": "code",
   "execution_count": 2,
   "metadata": {},
   "outputs": [],
   "source": [
    "# Let's do tree traversals - DFS (pre-order, in-order, post-order first)\n",
    "# Pre-order (can use recursion, but I'm using loops)\n",
    "def preOrder(root):\n",
    "    if not root:\n",
    "        return\n",
    "    stack = [root]\n",
    "    while len(stack) > 0:\n",
    "        curr = stack.pop()\n",
    "        print(curr.val)\n",
    "        if curr.right:\n",
    "            stack.append(curr.right)\n",
    "        if curr.left:\n",
    "            stack.append(curr.left)\n",
    "    return"
   ]
  },
  {
   "cell_type": "code",
   "execution_count": 3,
   "metadata": {},
   "outputs": [],
   "source": [
    "# Create a tree for testing\n",
    "A = Node(1)\n",
    "A.left = Node(2)\n",
    "A.right = Node(3)\n",
    "A.left.left = Node(4)\n",
    "A.left.right = Node(5)\n",
    "A.right.left = Node(6)\n",
    "A.right.right = Node(7)"
   ]
  },
  {
   "cell_type": "code",
   "execution_count": 4,
   "metadata": {},
   "outputs": [
    {
     "name": "stdout",
     "output_type": "stream",
     "text": [
      "1\n",
      "2\n",
      "4\n",
      "5\n",
      "3\n",
      "6\n",
      "7\n"
     ]
    }
   ],
   "source": [
    "preOrder(A)"
   ]
  },
  {
   "cell_type": "code",
   "execution_count": 5,
   "metadata": {},
   "outputs": [],
   "source": [
    "# Now let's try pre-order recursively\n",
    "def preOrderRec(root):\n",
    "    if not root:\n",
    "        return\n",
    "    print(root.val)\n",
    "    if root.left:\n",
    "        preOrderRec(root.left)\n",
    "    if root.right:\n",
    "        preOrderRec(root.right)\n",
    "    return"
   ]
  },
  {
   "cell_type": "code",
   "execution_count": 6,
   "metadata": {},
   "outputs": [
    {
     "name": "stdout",
     "output_type": "stream",
     "text": [
      "1\n",
      "2\n",
      "4\n",
      "5\n",
      "3\n",
      "6\n",
      "7\n"
     ]
    }
   ],
   "source": [
    "preOrderRec(A)"
   ]
  },
  {
   "cell_type": "code",
   "execution_count": 11,
   "metadata": {},
   "outputs": [],
   "source": [
    "# In-order (can use recursion, but I'm using loops)\n",
    "def inOrder(root):\n",
    "    if not root:\n",
    "        return\n",
    "    stack = []\n",
    "    curr = root\n",
    "    while True:\n",
    "        while curr:\n",
    "            stack.append(curr)\n",
    "            curr = curr.left\n",
    "        try:\n",
    "            curr = stack.pop()\n",
    "            print(curr.val)\n",
    "            curr = curr.right\n",
    "        except:\n",
    "            try:\n",
    "                print(curr.val)\n",
    "                curr = curr.right\n",
    "            except:\n",
    "                break\n",
    "    return"
   ]
  },
  {
   "cell_type": "code",
   "execution_count": 12,
   "metadata": {},
   "outputs": [
    {
     "name": "stdout",
     "output_type": "stream",
     "text": [
      "4\n",
      "2\n",
      "5\n",
      "1\n",
      "6\n",
      "3\n",
      "7\n"
     ]
    }
   ],
   "source": [
    "inOrder(A)"
   ]
  },
  {
   "cell_type": "code",
   "execution_count": 13,
   "metadata": {},
   "outputs": [],
   "source": [
    "# In-order recursively\n",
    "def inOrderRec(root):\n",
    "    if not root:\n",
    "        return\n",
    "    if root.left:\n",
    "        inOrderRec(root.left)\n",
    "    print(root.val)\n",
    "    if root.right:\n",
    "        inOrderRec(root.right)\n",
    "    return"
   ]
  },
  {
   "cell_type": "code",
   "execution_count": 14,
   "metadata": {},
   "outputs": [
    {
     "name": "stdout",
     "output_type": "stream",
     "text": [
      "4\n",
      "2\n",
      "5\n",
      "1\n",
      "6\n",
      "3\n",
      "7\n"
     ]
    }
   ],
   "source": [
    "inOrderRec(A)"
   ]
  },
  {
   "cell_type": "code",
   "execution_count": 17,
   "metadata": {},
   "outputs": [],
   "source": [
    "# Post-order (can use recursion, but I'm using loops)\n",
    "def postOrder(root):\n",
    "    if not root:\n",
    "        return\n",
    "    stack = []\n",
    "    curr = root\n",
    "    while True:\n",
    "        while curr:\n",
    "            stack.append(curr)\n",
    "            curr = curr.left\n",
    "        try:\n",
    "            curr = stack.pop()\n",
    "            \n",
    "            curr = curr.right\n",
    "        except:\n",
    "            try:\n",
    "                print(curr.val)\n",
    "                curr = curr.right\n",
    "            except:\n",
    "                break\n",
    "    return"
   ]
  },
  {
   "cell_type": "code",
   "execution_count": 19,
   "metadata": {},
   "outputs": [],
   "source": [
    "# okay this is to be done later"
   ]
  },
  {
   "cell_type": "code",
   "execution_count": 20,
   "metadata": {},
   "outputs": [],
   "source": [
    "#postOrder(A)"
   ]
  },
  {
   "cell_type": "code",
   "execution_count": 94,
   "metadata": {},
   "outputs": [],
   "source": [
    "# Post-order recursively\n",
    "def postOrderRec(root):\n",
    "    if not root:\n",
    "        return\n",
    "    if root.left:\n",
    "        postOrderRec(root.left)\n",
    "    if root.right:\n",
    "        postOrderRec(root.right)\n",
    "    print(root.val)\n",
    "    return"
   ]
  },
  {
   "cell_type": "code",
   "execution_count": 95,
   "metadata": {},
   "outputs": [
    {
     "name": "stdout",
     "output_type": "stream",
     "text": [
      "4\n",
      "5\n",
      "2\n",
      "6\n",
      "7\n",
      "3\n",
      "1\n"
     ]
    }
   ],
   "source": [
    "postOrderRec(A)"
   ]
  },
  {
   "cell_type": "code",
   "execution_count": 21,
   "metadata": {},
   "outputs": [],
   "source": [
    "#4.2 Minimal Tree - given a sorted array, make BST with minimal height\n",
    "def minimalBST(values):\n",
    "    if len(values) == 0:\n",
    "        return None\n",
    "    if len(values) == 1:\n",
    "        return Node(values[0])\n",
    "    BST = Node(values[len(values)//2])\n",
    "    BST.left = minimalBST(values[:len(values)//2])\n",
    "    BST.right = minimalBST(values[len(values)//2+1:])\n",
    "    return BST"
   ]
  },
  {
   "cell_type": "code",
   "execution_count": 28,
   "metadata": {},
   "outputs": [
    {
     "name": "stdout",
     "output_type": "stream",
     "text": [
      "1\n",
      "2\n",
      "3\n",
      "4\n",
      "5\n",
      "6\n",
      "7\n"
     ]
    }
   ],
   "source": [
    "array = [1,2,3,4,5,6,7]\n",
    "tree = minimalBST(array)\n",
    "inOrderRec(tree)"
   ]
  },
  {
   "cell_type": "code",
   "execution_count": 32,
   "metadata": {},
   "outputs": [
    {
     "name": "stdout",
     "output_type": "stream",
     "text": [
      "4\n",
      "2\n",
      "6\n",
      "1\n",
      "3\n",
      "5\n",
      "7\n"
     ]
    }
   ],
   "source": [
    "print(tree.val)\n",
    "print(tree.left.val)\n",
    "print(tree.right.val)\n",
    "print(tree.left.left.val)\n",
    "print(tree.left.right.val)\n",
    "print(tree.right.left.val)\n",
    "print(tree.right.right.val)"
   ]
  },
  {
   "cell_type": "code",
   "execution_count": 58,
   "metadata": {},
   "outputs": [],
   "source": [
    "#4.3 Lists of depths - given a binary tree, create an ll for all the nodes at each depth\n",
    "# Note: we'll just use the nodes and attach to node.right to create ll\n",
    "# First we create function to add each node to a dictionary according to the depth\n",
    "def depthDict(tree, depth = 0, Dict = {}):\n",
    "    try:\n",
    "        Dict[depth].add(tree)\n",
    "    except:\n",
    "        Dict[depth] = set()\n",
    "        Dict[depth].add(tree)\n",
    "    if tree.left:\n",
    "        Dict = depthDict(tree.left, depth + 1, Dict)\n",
    "    if tree.right:\n",
    "        Dict = depthDict(tree.right, depth + 1, Dict)\n",
    "    return Dict\n",
    "\n",
    "# Now we create function to create lls using Dict\n",
    "def createLLs(Dict):\n",
    "    for key in Dict:\n",
    "        ll = Node(Dict[key].pop().val)\n",
    "        curr = ll\n",
    "        for node in Dict[key]:\n",
    "            curr.right = Node(node.val)\n",
    "            curr = curr.right\n",
    "        Dict[key] = ll\n",
    "    return Dict"
   ]
  },
  {
   "cell_type": "code",
   "execution_count": 59,
   "metadata": {},
   "outputs": [
    {
     "name": "stdout",
     "output_type": "stream",
     "text": [
      "{0: {<__main__.Node object at 0x000001C186329748>}, 1: {<__main__.Node object at 0x000001C186329888>, <__main__.Node object at 0x000001C186329B08>}, 2: {<__main__.Node object at 0x000001C186329808>, <__main__.Node object at 0x000001C186329A48>, <__main__.Node object at 0x000001C186329B88>, <__main__.Node object at 0x000001C186329C08>}}\n"
     ]
    }
   ],
   "source": [
    "print(depthDict(tree))"
   ]
  },
  {
   "cell_type": "code",
   "execution_count": 60,
   "metadata": {},
   "outputs": [
    {
     "name": "stdout",
     "output_type": "stream",
     "text": [
      "{0: <__main__.Node object at 0x000001C18655C448>, 1: <__main__.Node object at 0x000001C18655C3C8>, 2: <__main__.Node object at 0x000001C18643B048>}\n"
     ]
    }
   ],
   "source": [
    "print(createLLs(depthDict(tree)))"
   ]
  },
  {
   "cell_type": "code",
   "execution_count": 61,
   "metadata": {},
   "outputs": [],
   "source": [
    "test = createLLs(depthDict(tree))"
   ]
  },
  {
   "cell_type": "code",
   "execution_count": 62,
   "metadata": {},
   "outputs": [
    {
     "name": "stdout",
     "output_type": "stream",
     "text": [
      "4\n"
     ]
    }
   ],
   "source": [
    "inOrderRec(test[0])"
   ]
  },
  {
   "cell_type": "code",
   "execution_count": 63,
   "metadata": {},
   "outputs": [
    {
     "name": "stdout",
     "output_type": "stream",
     "text": [
      "2\n",
      "6\n"
     ]
    }
   ],
   "source": [
    "inOrderRec(test[1])"
   ]
  },
  {
   "cell_type": "code",
   "execution_count": 64,
   "metadata": {},
   "outputs": [
    {
     "name": "stdout",
     "output_type": "stream",
     "text": [
      "1\n",
      "3\n",
      "5\n",
      "7\n"
     ]
    }
   ],
   "source": [
    "inOrderRec(test[2])"
   ]
  },
  {
   "cell_type": "code",
   "execution_count": 77,
   "metadata": {},
   "outputs": [],
   "source": [
    "#4.4 Check balanced - check if the given binary tree is balanced\n",
    "# We first make a helper function to get the height of any given node\n",
    "def getHeight(node):\n",
    "    if not node:\n",
    "        return 0\n",
    "    return max(getHeight(node.left), getHeight(node.right)) + 1\n",
    "            \n",
    "# Now use this to check\n",
    "def checkBalanced(tree):\n",
    "    if not tree:\n",
    "        return True\n",
    "    if (abs(getHeight(tree.left) - getHeight(tree.right)) > 1):\n",
    "        return False\n",
    "    else:\n",
    "        return checkBalanced(tree.left) and checkBalanced(tree.right)\n",
    "    "
   ]
  },
  {
   "cell_type": "code",
   "execution_count": 78,
   "metadata": {},
   "outputs": [
    {
     "data": {
      "text/plain": [
       "True"
      ]
     },
     "execution_count": 78,
     "metadata": {},
     "output_type": "execute_result"
    }
   ],
   "source": [
    "checkBalanced(Node(1))"
   ]
  },
  {
   "cell_type": "code",
   "execution_count": 79,
   "metadata": {},
   "outputs": [
    {
     "data": {
      "text/plain": [
       "False"
      ]
     },
     "execution_count": 79,
     "metadata": {},
     "output_type": "execute_result"
    }
   ],
   "source": [
    "unbalanceTree = Node(1)\n",
    "unbalanceTree.left = Node(2)\n",
    "unbalanceTree.right = Node(3)\n",
    "unbalanceTree.left.left = Node(4)\n",
    "unbalanceTree.left.left.right = Node(5)\n",
    "checkBalanced(unbalanceTree)"
   ]
  },
  {
   "cell_type": "code",
   "execution_count": 80,
   "metadata": {},
   "outputs": [],
   "source": [
    "# The above solution is slow O(2^n)"
   ]
  },
  {
   "cell_type": "code",
   "execution_count": 85,
   "metadata": {},
   "outputs": [],
   "source": [
    "def getHeightWhileCheck(node):\n",
    "    if not node:\n",
    "        return 0\n",
    "    lHeight = getHeightWhileCheck(node.left)\n",
    "    rHeight = getHeightWhileCheck(node.right)\n",
    "    if abs(lHeight - rHeight) > 1:\n",
    "        return -1\n",
    "    return max(lHeight, rHeight) + 1\n",
    "\n",
    "def checkBalancedFast(tree):\n",
    "    if not tree:\n",
    "        return True\n",
    "    lHeight = getHeightWhileCheck(tree.left)\n",
    "    if lHeight == -1:\n",
    "        return False\n",
    "    rHeight = getHeightWhileCheck(tree.right)\n",
    "    if rHeight == -1:\n",
    "        return False\n",
    "    return abs(lHeight - rHeight) <= 1\n",
    "    "
   ]
  },
  {
   "cell_type": "code",
   "execution_count": 86,
   "metadata": {},
   "outputs": [
    {
     "data": {
      "text/plain": [
       "False"
      ]
     },
     "execution_count": 86,
     "metadata": {},
     "output_type": "execute_result"
    }
   ],
   "source": [
    "unbalanceTree = Node(1)\n",
    "unbalanceTree.left = Node(2)\n",
    "unbalanceTree.right = Node(3)\n",
    "unbalanceTree.left.left = Node(4)\n",
    "unbalanceTree.left.left.right = Node(5)\n",
    "checkBalanced(unbalanceTree)"
   ]
  },
  {
   "cell_type": "code",
   "execution_count": null,
   "metadata": {},
   "outputs": [],
   "source": [
    "# This is faster solution  O(n)"
   ]
  }
 ],
 "metadata": {
  "kernelspec": {
   "display_name": "Python 3",
   "language": "python",
   "name": "python3"
  },
  "language_info": {
   "codemirror_mode": {
    "name": "ipython",
    "version": 3
   },
   "file_extension": ".py",
   "mimetype": "text/x-python",
   "name": "python",
   "nbconvert_exporter": "python",
   "pygments_lexer": "ipython3",
   "version": "3.7.6"
  }
 },
 "nbformat": 4,
 "nbformat_minor": 4
}
