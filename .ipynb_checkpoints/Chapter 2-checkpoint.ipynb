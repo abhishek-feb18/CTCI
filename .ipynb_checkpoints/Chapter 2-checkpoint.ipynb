{
 "cells": [
  {
   "cell_type": "markdown",
   "metadata": {},
   "source": [
    "# Chapter 2 - Linked List"
   ]
  },
  {
   "cell_type": "code",
   "execution_count": 1,
   "metadata": {},
   "outputs": [],
   "source": [
    "import numpy as np\n",
    "import pandas as pd\n",
    "import copy"
   ]
  },
  {
   "cell_type": "code",
   "execution_count": 16,
   "metadata": {},
   "outputs": [],
   "source": [
    "# Create a LinkedList and a Node class for use in this chapter\n",
    "\n",
    "class LinkedList():\n",
    "    def __init__(self, head=None):\n",
    "        self.head = head\n",
    "\n",
    "class Node():\n",
    "    def __init__(self, value, next=None):\n",
    "        self.value = value\n",
    "        self.next = next"
   ]
  },
  {
   "cell_type": "code",
   "execution_count": 28,
   "metadata": {},
   "outputs": [],
   "source": [
    "n5 = Node(2)\n",
    "n4 = Node(2,n5)\n",
    "n3 = Node(2,n4)\n",
    "n2 = Node(2,n3)\n",
    "n1 = Node(1,n2)\n",
    "\n",
    "ll = LinkedList(n1)"
   ]
  },
  {
   "cell_type": "code",
   "execution_count": 29,
   "metadata": {},
   "outputs": [
    {
     "name": "stdout",
     "output_type": "stream",
     "text": [
      "1\n",
      "2\n",
      "2\n",
      "2\n",
      "2\n"
     ]
    }
   ],
   "source": [
    "current = ll.head\n",
    "while current != None:\n",
    "    print(current.value)\n",
    "    current = current.next"
   ]
  },
  {
   "cell_type": "code",
   "execution_count": 30,
   "metadata": {},
   "outputs": [],
   "source": [
    "#2.1 Remove dups from an unsorted linked list\n",
    "def removeDup(ll):\n",
    "    check = set()\n",
    "    current = ll.head\n",
    "    while current != None:\n",
    "        if current.value not in check:\n",
    "            check.add(current.value)\n",
    "            prev = current\n",
    "            current = current.next\n",
    "        else:\n",
    "            prev.next = current.next\n",
    "            current = current.next\n",
    "    return ll"
   ]
  },
  {
   "cell_type": "code",
   "execution_count": 31,
   "metadata": {},
   "outputs": [
    {
     "name": "stdout",
     "output_type": "stream",
     "text": [
      "1\n",
      "2\n"
     ]
    }
   ],
   "source": [
    "removeDup(ll)\n",
    "current = ll.head\n",
    "while current != None:\n",
    "    print(current.value)\n",
    "    current = current.next"
   ]
  },
  {
   "cell_type": "markdown",
   "metadata": {},
   "source": [
    "Time O(n)\n",
    "\n",
    "Space O(n)\n",
    "\n",
    "If we can't use set, the time will be O(n^2)"
   ]
  },
  {
   "cell_type": "code",
   "execution_count": 37,
   "metadata": {},
   "outputs": [],
   "source": [
    "#2.2 Return kth to last item from the linked list (k=0 being the last item)\n",
    "def kthToLast(ll,k):\n",
    "    # first find the length of ll\n",
    "    i = 0\n",
    "    current = ll.head\n",
    "    while current != None:\n",
    "        i += 1\n",
    "        current = current.next\n",
    "    \n",
    "    # assuming k is < i\n",
    "    fromFirst = i - k\n",
    "    current = ll.head\n",
    "    while fromFirst > 1:\n",
    "        current = current.next\n",
    "        fromFirst -= 1\n",
    "    return current.value"
   ]
  },
  {
   "cell_type": "code",
   "execution_count": 79,
   "metadata": {},
   "outputs": [],
   "source": [
    "n5 = Node(5)\n",
    "n4 = Node(4,n5)\n",
    "n3 = Node(3,n4)\n",
    "n2 = Node(2,n3)\n",
    "n1 = Node(1,n2)\n",
    "\n",
    "ll = LinkedList(n1)"
   ]
  },
  {
   "cell_type": "code",
   "execution_count": 80,
   "metadata": {},
   "outputs": [
    {
     "name": "stdout",
     "output_type": "stream",
     "text": [
      "5\n",
      "4\n",
      "3\n",
      "2\n",
      "1\n"
     ]
    }
   ],
   "source": [
    "print(kthToLast(ll,0))\n",
    "print(kthToLast(ll,1))\n",
    "print(kthToLast(ll,2))\n",
    "print(kthToLast(ll,3))\n",
    "print(kthToLast(ll,4))"
   ]
  },
  {
   "cell_type": "markdown",
   "metadata": {},
   "source": [
    "Time O(n)\n",
    "\n",
    "Space O(1)"
   ]
  },
  {
   "cell_type": "code",
   "execution_count": 143,
   "metadata": {},
   "outputs": [],
   "source": [
    "#2.3 Delete a given node (not first or last node) from a linked list\n",
    "def delNode(n):\n",
    "    if n.next != None:\n",
    "        n.value = n.next.value\n",
    "        if n.next.next == None:\n",
    "            n.next = None\n",
    "        else:\n",
    "            delNode(n.next)\n",
    "    return"
   ]
  },
  {
   "cell_type": "code",
   "execution_count": 144,
   "metadata": {},
   "outputs": [],
   "source": [
    "n5 = Node(5)\n",
    "n4 = Node(4,n5)\n",
    "n3 = Node(3,n4)\n",
    "n2 = Node(2,n3)\n",
    "n1 = Node(1,n2)\n",
    "\n",
    "ll = LinkedList(n1)"
   ]
  },
  {
   "cell_type": "code",
   "execution_count": 145,
   "metadata": {},
   "outputs": [
    {
     "name": "stdout",
     "output_type": "stream",
     "text": [
      "1\n",
      "2\n",
      "3\n",
      "4\n",
      "5\n"
     ]
    }
   ],
   "source": [
    "current = ll.head\n",
    "while current != None:\n",
    "    print(current.value)\n",
    "    current = current.next"
   ]
  },
  {
   "cell_type": "code",
   "execution_count": 146,
   "metadata": {},
   "outputs": [],
   "source": [
    "delNode(n2)"
   ]
  },
  {
   "cell_type": "code",
   "execution_count": 147,
   "metadata": {},
   "outputs": [
    {
     "name": "stdout",
     "output_type": "stream",
     "text": [
      "1\n",
      "3\n",
      "4\n",
      "5\n"
     ]
    }
   ],
   "source": [
    "current = ll.head\n",
    "while current != None:\n",
    "    print(current.value)\n",
    "    current = current.next"
   ]
  },
  {
   "cell_type": "code",
   "execution_count": 158,
   "metadata": {},
   "outputs": [],
   "source": [
    "delNode(n1)"
   ]
  },
  {
   "cell_type": "code",
   "execution_count": 159,
   "metadata": {},
   "outputs": [
    {
     "name": "stdout",
     "output_type": "stream",
     "text": [
      "5\n"
     ]
    }
   ],
   "source": [
    "current = ll.head\n",
    "while current != None:\n",
    "    print(current.value)\n",
    "    current = current.next"
   ]
  },
  {
   "cell_type": "markdown",
   "metadata": {},
   "source": [
    "Time O(n)\n",
    "\n",
    "Space O(1) No wait maybe O(n) because or recursive calls?? Yes O(n) basically O(recursion depth)\n",
    "\n",
    "This question took a long time, next attempt whiteborad"
   ]
  },
  {
   "cell_type": "code",
   "execution_count": 177,
   "metadata": {},
   "outputs": [],
   "source": [
    "#2.4 Partition a linked list by a value such that all number smaller than partition are to the left\n",
    "def llPartition(ll, p):\n",
    "    if ll.head == None:\n",
    "        return ll\n",
    "    \n",
    "    ll1 = LinkedList()\n",
    "    ll2 = LinkedList()\n",
    "    \n",
    "    current = ll.head\n",
    "    ll1current = None\n",
    "    ll2current = None\n",
    "    \n",
    "    # One pass through ll, add each node to either ll1 or ll2 depending on value\n",
    "    while current != None:\n",
    "        if current.value < p:\n",
    "            if ll1.head == None:\n",
    "                ll1.head = Node(current.value)\n",
    "                ll1current = ll1.head\n",
    "            else:\n",
    "                ll1current.next = Node(current.value)\n",
    "                ll1current = ll1current.next\n",
    "        else:\n",
    "            if ll2.head == None:\n",
    "                ll2.head = Node(current.value)\n",
    "                ll2current = ll2.head\n",
    "            else:\n",
    "                ll2current.next = Node(current.value)\n",
    "                ll2current = ll2current.next\n",
    "        current = current.next\n",
    "    \n",
    "    # Now recreate ll with the right order\n",
    "    if (ll1.head == None) or (ll2.head == None):\n",
    "        return ll\n",
    "    else:\n",
    "        ll.head = ll1.head\n",
    "        ll1current.next = ll2.head\n",
    "    return ll\n",
    "            "
   ]
  },
  {
   "cell_type": "code",
   "execution_count": 198,
   "metadata": {},
   "outputs": [],
   "source": [
    "n10 = Node(2)\n",
    "n9 = Node(4,n10)\n",
    "n8 = Node(3,n9)\n",
    "n7 = Node(4,n8)\n",
    "n6 = Node(2,n7)\n",
    "n5 = Node(6,n6)\n",
    "n4 = Node(8,n5)\n",
    "n3 = Node(3,n4)\n",
    "n2 = Node(4,n3)\n",
    "n1 = Node(1,n2)\n",
    "\n",
    "ll = LinkedList(n1)"
   ]
  },
  {
   "cell_type": "code",
   "execution_count": 199,
   "metadata": {},
   "outputs": [
    {
     "name": "stdout",
     "output_type": "stream",
     "text": [
      "1\n",
      "4\n",
      "3\n",
      "8\n",
      "6\n",
      "2\n",
      "4\n",
      "3\n",
      "4\n",
      "2\n"
     ]
    }
   ],
   "source": [
    "current = ll.head\n",
    "while current != None:\n",
    "    print(current.value)\n",
    "    current = current.next"
   ]
  },
  {
   "cell_type": "code",
   "execution_count": 200,
   "metadata": {},
   "outputs": [
    {
     "data": {
      "text/plain": [
       "<__main__.LinkedList at 0x24a8424e388>"
      ]
     },
     "execution_count": 200,
     "metadata": {},
     "output_type": "execute_result"
    }
   ],
   "source": [
    "llPartition(ll,8)"
   ]
  },
  {
   "cell_type": "code",
   "execution_count": 201,
   "metadata": {},
   "outputs": [
    {
     "name": "stdout",
     "output_type": "stream",
     "text": [
      "1\n",
      "4\n",
      "3\n",
      "6\n",
      "2\n",
      "4\n",
      "3\n",
      "4\n",
      "2\n",
      "8\n"
     ]
    }
   ],
   "source": [
    "current = ll.head\n",
    "while current != None:\n",
    "    print(current.value)\n",
    "    current = current.next"
   ]
  },
  {
   "cell_type": "markdown",
   "metadata": {},
   "source": [
    "Time O(n)\n",
    "\n",
    "Space O(n)"
   ]
  },
  {
   "cell_type": "code",
   "execution_count": 209,
   "metadata": {},
   "outputs": [],
   "source": [
    "#2.5 Sum Lists - 2 numbers represented as linked lists, return their sum as a linked list\n",
    "def sumLists(ll1, ll2):\n",
    "    curr1 = ll1.head\n",
    "    curr2 = ll2.head\n",
    "    carry = 0\n",
    "    ll3 = LinkedList(Node(0))\n",
    "    curr3 = ll3.head\n",
    "    \n",
    "    while (curr1 != None) or (curr2 != None):\n",
    "        try:\n",
    "            curr3.value = (curr1.value + curr2.value + carry) % 10\n",
    "            carry = (curr1.value + curr2.value + carry) // 10\n",
    "        \n",
    "        except:\n",
    "            try:\n",
    "                curr3.value = curr1.value + carry\n",
    "                carry = 0\n",
    "            \n",
    "            except:\n",
    "                curr3.value = curr2.value + carry\n",
    "                carry = 0\n",
    "                \n",
    "        \n",
    "        try:\n",
    "            curr1 = curr1.next\n",
    "        except:\n",
    "            pass\n",
    "        \n",
    "        try:\n",
    "            curr2 = curr2.next\n",
    "        except:\n",
    "            pass\n",
    "        \n",
    "        if (curr1 != None) or (curr2 != None):\n",
    "            curr3.next = Node(0)\n",
    "            curr3 = curr3.next\n",
    "    \n",
    "    return ll3"
   ]
  },
  {
   "cell_type": "code",
   "execution_count": 215,
   "metadata": {},
   "outputs": [
    {
     "name": "stdout",
     "output_type": "stream",
     "text": [
      "7\n",
      "1\n",
      "6\n"
     ]
    }
   ],
   "source": [
    "n13 = Node(6)\n",
    "n12 = Node(1,n13)\n",
    "n11 = Node(7,n12)\n",
    "\n",
    "ll1 = LinkedList(n11)\n",
    "\n",
    "n23 = Node(2)\n",
    "n22 = Node(9,n23)\n",
    "#n21 = Node(5,n22)\n",
    "n21 = None\n",
    "\n",
    "ll2 = LinkedList(n21)\n",
    "\n",
    "current = ll1.head\n",
    "while current != None:\n",
    "    print(current.value)\n",
    "    current = current.next\n",
    "    \n",
    "current = ll2.head\n",
    "while current != None:\n",
    "    print(current.value)\n",
    "    current = current.next"
   ]
  },
  {
   "cell_type": "code",
   "execution_count": 216,
   "metadata": {},
   "outputs": [
    {
     "name": "stdout",
     "output_type": "stream",
     "text": [
      "7\n",
      "1\n",
      "6\n"
     ]
    }
   ],
   "source": [
    "ll3 = sumLists(ll1,ll2)\n",
    "\n",
    "current = ll3.head\n",
    "while current != None:\n",
    "    print(current.value)\n",
    "    current = current.next"
   ]
  },
  {
   "cell_type": "markdown",
   "metadata": {},
   "source": [
    "Time O(n + m)\n",
    "\n",
    "Space O(max(n,m))"
   ]
  },
  {
   "cell_type": "code",
   "execution_count": 223,
   "metadata": {},
   "outputs": [],
   "source": [
    "#2.5 Sum Lists - now reversed representation\n",
    "# We just reverse the lists and then use the above function\n",
    "\n",
    "def inverseLinkedList(ll1):\n",
    "    ll2 = LinkedList()\n",
    "    curr = ll1.head\n",
    "    \n",
    "    while curr != None:\n",
    "        ll2 = (LinkedList(Node(curr.value,ll2.head)))\n",
    "        curr = curr.next\n",
    "    \n",
    "    return ll2"
   ]
  },
  {
   "cell_type": "code",
   "execution_count": 224,
   "metadata": {},
   "outputs": [
    {
     "name": "stdout",
     "output_type": "stream",
     "text": [
      "6\n",
      "1\n",
      "7\n",
      "2\n",
      "9\n",
      "5\n"
     ]
    }
   ],
   "source": [
    "n13 = Node(6)\n",
    "n12 = Node(1,n13)\n",
    "n11 = Node(7,n12)\n",
    "\n",
    "ll1 = inverseLinkedList(LinkedList(n11))\n",
    "\n",
    "\n",
    "n23 = Node(2)\n",
    "n22 = Node(9,n23)\n",
    "n21 = Node(5,n22)\n",
    "#n21 = None\n",
    "\n",
    "ll2 = inverseLinkedList(LinkedList(n21))\n",
    "\n",
    "current = ll1.head\n",
    "while current != None:\n",
    "    print(current.value)\n",
    "    current = current.next\n",
    "    \n",
    "current = ll2.head\n",
    "while current != None:\n",
    "    print(current.value)\n",
    "    current = current.next"
   ]
  },
  {
   "cell_type": "code",
   "execution_count": 227,
   "metadata": {},
   "outputs": [],
   "source": [
    "def sumListsInversed(ll1,ll2):\n",
    "    return inverseLinkedList(sumLists(inverseLinkedList(ll1),inverseLinkedList(ll2)))"
   ]
  },
  {
   "cell_type": "code",
   "execution_count": 228,
   "metadata": {},
   "outputs": [
    {
     "name": "stdout",
     "output_type": "stream",
     "text": [
      "9\n",
      "1\n",
      "2\n"
     ]
    }
   ],
   "source": [
    "ll3 = sumListsInversed(ll1,ll2)\n",
    "\n",
    "current = ll3.head\n",
    "while current != None:\n",
    "    print(current.value)\n",
    "    current = current.next"
   ]
  },
  {
   "cell_type": "markdown",
   "metadata": {},
   "source": [
    "Time O(n + m)\n",
    "\n",
    "Space O(max(n,m))"
   ]
  },
  {
   "cell_type": "code",
   "execution_count": 229,
   "metadata": {},
   "outputs": [],
   "source": [
    "#2.6 Check if a linkedlist is a palindrome. Accepting empty list as palindrome.\n",
    "def checkLLPalindrome(ll):\n",
    "    ll1 = inverseLinkedList(ll)\n",
    "    current = ll.head\n",
    "    check = ll1.head\n",
    "    while current != None:\n",
    "        if current.value != check.value:\n",
    "            return False\n",
    "        current = current.next\n",
    "        check = check.next\n",
    "    return True"
   ]
  },
  {
   "cell_type": "code",
   "execution_count": 246,
   "metadata": {},
   "outputs": [
    {
     "name": "stdout",
     "output_type": "stream",
     "text": [
      "1\n",
      "2\n",
      "3\n",
      "4\n",
      "5\n",
      "4\n",
      "3\n",
      "2\n",
      "1\n"
     ]
    }
   ],
   "source": [
    "n9 = Node(1)\n",
    "n8 = Node(2,n9)\n",
    "n7 = Node(3,n8)\n",
    "n6 = Node(4,n7)\n",
    "n5 = Node(5,n6)\n",
    "n4 = Node(4,n5)\n",
    "n3 = Node(3,n4)\n",
    "n2 = Node(2,n3)\n",
    "n1 = Node(1,n2)\n",
    "\n",
    "ll = LinkedList(n1)\n",
    "\n",
    "current = ll.head\n",
    "while current != None:\n",
    "    print(current.value)\n",
    "    current = current.next"
   ]
  },
  {
   "cell_type": "code",
   "execution_count": 247,
   "metadata": {},
   "outputs": [
    {
     "name": "stdout",
     "output_type": "stream",
     "text": [
      "True\n"
     ]
    }
   ],
   "source": [
    "print(checkLLPalindrome(ll))"
   ]
  },
  {
   "cell_type": "markdown",
   "metadata": {},
   "source": [
    "Time O(n)\n",
    "\n",
    "Space O(n)"
   ]
  },
  {
   "cell_type": "code",
   "execution_count": 261,
   "metadata": {},
   "outputs": [],
   "source": [
    "#2.7 Intersection: given two lls, determine if they intersect. Return the intersecting node.\n",
    "# Assumption - return None if no intersection\n",
    "def intersection(ll1, ll2):\n",
    "    # we will check if the last node is same to check if there is intersection.\n",
    "    # we will also count the number of nodes in each ll, it's needed later\n",
    "    \n",
    "    counter1 = 0\n",
    "    curr1 = ll1.head\n",
    "    prev1 = curr1\n",
    "    while curr1 != None:\n",
    "        counter1 += 1\n",
    "        prev1 = curr1\n",
    "        curr1 = curr1.next\n",
    "    \n",
    "    counter2 = 0\n",
    "    curr2 = ll2.head\n",
    "    prev2 = curr2\n",
    "    while curr2 != None:\n",
    "        counter2 += 1\n",
    "        prev2 = curr2\n",
    "        curr2 = curr2.next\n",
    "    \n",
    "    if prev1 != prev2:\n",
    "        return None\n",
    "    \n",
    "    curr1 = ll1.head\n",
    "    curr2 = ll2.head\n",
    "\n",
    "    if counter1 > counter2:\n",
    "        while counter1 > counter2:\n",
    "            curr1 = curr1.next\n",
    "            counter1 -= 1\n",
    "    \n",
    "    elif counter2 > counter1:\n",
    "        while counter2 > counter1:\n",
    "            curr2 = curr2.next\n",
    "            counter2 -= 1\n",
    "    \n",
    "    while curr1 != curr2:\n",
    "        curr1 = curr1.next\n",
    "        curr2 = curr2.next\n",
    "    \n",
    "    return curr1"
   ]
  },
  {
   "cell_type": "code",
   "execution_count": 262,
   "metadata": {},
   "outputs": [
    {
     "name": "stdout",
     "output_type": "stream",
     "text": [
      "LL1\n",
      "1\n",
      "2\n",
      "3\n",
      "4\n",
      "5\n",
      "6\n",
      "7\n",
      "8\n",
      "9\n",
      "LL2\n",
      "10\n",
      "6\n",
      "7\n",
      "8\n",
      "9\n"
     ]
    }
   ],
   "source": [
    "n9 = Node(9)\n",
    "n8 = Node(8,n9)\n",
    "n7 = Node(7,n8)\n",
    "n6 = Node(6,n7)\n",
    "n5 = Node(5,n6)\n",
    "n4 = Node(4,n5)\n",
    "n3 = Node(3,n4)\n",
    "n2 = Node(2,n3)\n",
    "n1 = Node(1,n2)\n",
    "\n",
    "n10 = Node(10,n6)\n",
    "\n",
    "ll1 = LinkedList(n1)\n",
    "ll2 = LinkedList(n10)\n",
    "\n",
    "print('LL1')\n",
    "current = ll1.head\n",
    "while current != None:\n",
    "    print(current.value)\n",
    "    current = current.next\n",
    "    \n",
    "print('LL2')\n",
    "current = ll2.head\n",
    "while current != None:\n",
    "    print(current.value)\n",
    "    current = current.next"
   ]
  },
  {
   "cell_type": "code",
   "execution_count": 263,
   "metadata": {},
   "outputs": [
    {
     "name": "stdout",
     "output_type": "stream",
     "text": [
      "True\n"
     ]
    }
   ],
   "source": [
    "print(n6 == intersection(ll1, ll2))"
   ]
  },
  {
   "cell_type": "code",
   "execution_count": 264,
   "metadata": {},
   "outputs": [
    {
     "name": "stdout",
     "output_type": "stream",
     "text": [
      "False\n"
     ]
    }
   ],
   "source": [
    "print(n6 == intersection(LinkedList(), LinkedList()))"
   ]
  },
  {
   "cell_type": "code",
   "execution_count": 321,
   "metadata": {},
   "outputs": [],
   "source": [
    "#2.8 Loop detection - implement algorithm that detects loop in ll and returns node at beginning of the loop.\n",
    "# Assumption: if no loop, we'll return None\n",
    "# This can be solved without a set, but we'll use set as the solution w/o set is complicated (to be implemented another time)\n",
    "def loopDetection(ll):\n",
    "    allNodes = set()\n",
    "    curr = ll.head\n",
    "    while curr != None:\n",
    "        if curr in allNodes:\n",
    "            return curr\n",
    "        allNodes.add(curr)\n",
    "        curr = curr.next\n",
    "    return None"
   ]
  },
  {
   "cell_type": "code",
   "execution_count": 322,
   "metadata": {},
   "outputs": [
    {
     "name": "stdout",
     "output_type": "stream",
     "text": [
      "1\n",
      "2\n",
      "3\n",
      "4\n",
      "5\n",
      "6\n",
      "7\n",
      "8\n",
      "9\n",
      "5\n",
      "6\n",
      "7\n",
      "8\n",
      "9\n",
      "5\n",
      "6\n",
      "7\n",
      "8\n",
      "9\n",
      "5\n",
      "6\n",
      "7\n",
      "8\n",
      "9\n",
      "5\n",
      "6\n",
      "7\n",
      "8\n",
      "9\n",
      "5\n"
     ]
    }
   ],
   "source": [
    "n9 = Node(9)\n",
    "n8 = Node(8,n9)\n",
    "n7 = Node(7,n8)\n",
    "n6 = Node(6,n7)\n",
    "n5 = Node(5,n6)\n",
    "n4 = Node(4,n5)\n",
    "n3 = Node(3,n4)\n",
    "n2 = Node(2,n3)\n",
    "n1 = Node(1,n2)\n",
    "\n",
    "ll2 = LinkedList(n1)\n",
    "\n",
    "n9.next = n5\n",
    "\n",
    "current = ll2.head\n",
    "i = 30\n",
    "while (current != None) and (i > 0):\n",
    "    print(current.value)\n",
    "    current = current.next\n",
    "    i -= 1"
   ]
  },
  {
   "cell_type": "code",
   "execution_count": 325,
   "metadata": {},
   "outputs": [
    {
     "name": "stdout",
     "output_type": "stream",
     "text": [
      "5\n"
     ]
    }
   ],
   "source": [
    "print(loopDetection(ll2).value)"
   ]
  },
  {
   "cell_type": "markdown",
   "metadata": {},
   "source": [
    "Time O(n)\n",
    "\n",
    "Space O(n)"
   ]
  }
 ],
 "metadata": {
  "kernelspec": {
   "display_name": "Python 3",
   "language": "python",
   "name": "python3"
  },
  "language_info": {
   "codemirror_mode": {
    "name": "ipython",
    "version": 3
   },
   "file_extension": ".py",
   "mimetype": "text/x-python",
   "name": "python",
   "nbconvert_exporter": "python",
   "pygments_lexer": "ipython3",
   "version": "3.7.6"
  }
 },
 "nbformat": 4,
 "nbformat_minor": 4
}
