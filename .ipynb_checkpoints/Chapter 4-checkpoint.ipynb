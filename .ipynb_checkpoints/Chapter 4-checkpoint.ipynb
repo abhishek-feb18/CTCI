{
 "cells": [
  {
   "cell_type": "markdown",
   "metadata": {},
   "source": [
    "# Chapter 4 - Trees and Graphs"
   ]
  },
  {
   "cell_type": "code",
   "execution_count": 41,
   "metadata": {},
   "outputs": [],
   "source": [
    "import copy\n",
    "# Define tree nodes\n",
    "class Node():\n",
    "    def __init__(self, val = None, name = None):\n",
    "        self.name = name\n",
    "        self.val = val\n",
    "        self.left = None\n",
    "        self.right = None\n",
    "        \n",
    "    def __str__(self):\n",
    "        return self.name\n",
    "\n",
    "# We can choose to wrap in a class Tree, but we can also just use nodes directly "
   ]
  },
  {
   "cell_type": "code",
   "execution_count": 63,
   "metadata": {},
   "outputs": [],
   "source": [
    "# Let's do tree traversals - DFS (pre-order, in-order, post-order first)\n",
    "# Pre-order (can use recursion, but I'm using loops)\n",
    "def preOrder(root):\n",
    "    output = []\n",
    "    if not root:\n",
    "        return output\n",
    "    stack = [root]\n",
    "    while len(stack) > 0:\n",
    "        curr = stack.pop()\n",
    "        output.append(curr.val)\n",
    "        if curr.right:\n",
    "            stack.append(curr.right)\n",
    "        if curr.left:\n",
    "            stack.append(curr.left)\n",
    "    return output\n",
    "        \n",
    "    "
   ]
  },
  {
   "cell_type": "code",
   "execution_count": 64,
   "metadata": {},
   "outputs": [],
   "source": [
    "A = Node(1)\n",
    "A.left = Node(2)\n",
    "A.right = Node(3)\n",
    "A.left.left = Node(4)\n",
    "A.left.right = Node(5)\n",
    "A.right.left = Node(6)\n",
    "A.right.right = Node(7)"
   ]
  },
  {
   "cell_type": "code",
   "execution_count": 65,
   "metadata": {},
   "outputs": [
    {
     "name": "stdout",
     "output_type": "stream",
     "text": [
      "[1, 2, 4, 5, 3, 6, 7]\n"
     ]
    }
   ],
   "source": [
    "print(preOrder(A))"
   ]
  },
  {
   "cell_type": "code",
   "execution_count": 66,
   "metadata": {},
   "outputs": [],
   "source": [
    "# Now let's try pre-order recursively\n",
    "def preOrderRec(root):\n",
    "    if not root:\n",
    "        return\n",
    "    print(root.val)\n",
    "    if root.left:\n",
    "        preOrderRec(root.left)\n",
    "    if root.right:\n",
    "        preOrderRec(root.right)\n",
    "    return"
   ]
  },
  {
   "cell_type": "code",
   "execution_count": 73,
   "metadata": {},
   "outputs": [
    {
     "name": "stdout",
     "output_type": "stream",
     "text": [
      "1\n",
      "2\n",
      "4\n",
      "5\n",
      "3\n",
      "6\n",
      "7\n"
     ]
    }
   ],
   "source": [
    "preOrderRec(A)"
   ]
  },
  {
   "cell_type": "code",
   "execution_count": 76,
   "metadata": {},
   "outputs": [],
   "source": [
    "# In-order recursively\n",
    "def inOrderRec(root):\n",
    "    if not root:\n",
    "        return\n",
    "    if root.left:\n",
    "        inOrderRec(root.left)\n",
    "    print(root.val)\n",
    "    if root.right:\n",
    "        inOrderRec(root.right)\n",
    "    return"
   ]
  },
  {
   "cell_type": "code",
   "execution_count": 77,
   "metadata": {},
   "outputs": [
    {
     "name": "stdout",
     "output_type": "stream",
     "text": [
      "4\n",
      "2\n",
      "5\n",
      "1\n",
      "6\n",
      "3\n",
      "7\n"
     ]
    }
   ],
   "source": [
    "inOrderRec(A)"
   ]
  },
  {
   "cell_type": "code",
   "execution_count": 78,
   "metadata": {},
   "outputs": [],
   "source": [
    "# Post-order recursively\n",
    "def postOrderRec(root):\n",
    "    if not root:\n",
    "        return\n",
    "    if root.left:\n",
    "        postOrderRec(root.left)\n",
    "    if root.right:\n",
    "        postOrderRec(root.right)\n",
    "    print(root.val)\n",
    "    return"
   ]
  },
  {
   "cell_type": "code",
   "execution_count": 79,
   "metadata": {},
   "outputs": [
    {
     "name": "stdout",
     "output_type": "stream",
     "text": [
      "4\n",
      "5\n",
      "2\n",
      "6\n",
      "7\n",
      "3\n",
      "1\n"
     ]
    }
   ],
   "source": [
    "postOrderRec(A)"
   ]
  },
  {
   "cell_type": "code",
   "execution_count": null,
   "metadata": {},
   "outputs": [],
   "source": []
  }
 ],
 "metadata": {
  "kernelspec": {
   "display_name": "Python 3",
   "language": "python",
   "name": "python3"
  },
  "language_info": {
   "codemirror_mode": {
    "name": "ipython",
    "version": 3
   },
   "file_extension": ".py",
   "mimetype": "text/x-python",
   "name": "python",
   "nbconvert_exporter": "python",
   "pygments_lexer": "ipython3",
   "version": "3.7.6"
  }
 },
 "nbformat": 4,
 "nbformat_minor": 4
}
