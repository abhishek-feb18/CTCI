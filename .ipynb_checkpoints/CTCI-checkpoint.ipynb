{
 "cells": [
  {
   "cell_type": "code",
   "execution_count": 1,
   "metadata": {},
   "outputs": [],
   "source": [
    "import numpy as np\n",
    "import pandas as pd"
   ]
  },
  {
   "cell_type": "markdown",
   "metadata": {},
   "source": [
    "# Chapter 1 - Arrays and Strings"
   ]
  },
  {
   "cell_type": "code",
   "execution_count": 9,
   "metadata": {},
   "outputs": [],
   "source": [
    "# 1.1 determine if a string has all unique characters\n",
    "def isUnique(S):\n",
    "    if S == \"\":\n",
    "        return True\n",
    "    chars = set()\n",
    "    for char in S:\n",
    "        if char in chars:\n",
    "            return False\n",
    "        chars.add(char)\n",
    "    return True"
   ]
  },
  {
   "cell_type": "code",
   "execution_count": 10,
   "metadata": {},
   "outputs": [
    {
     "name": "stdout",
     "output_type": "stream",
     "text": [
      "True\n",
      "False\n",
      "True\n",
      "False\n",
      "False\n",
      "False\n",
      "True\n"
     ]
    }
   ],
   "source": [
    "S1 = ''\n",
    "S2 = 'test'\n",
    "S3 = 'qwertyui12345678zxcvbnm'\n",
    "S4 = 'wwerty'\n",
    "S5 = 'werrty'\n",
    "S6 = 'wertyy'\n",
    "S7 = 'qwerty'\n",
    "\n",
    "print(isUnique(S1))\n",
    "print(isUnique(S2))\n",
    "print(isUnique(S3))\n",
    "print(isUnique(S4))\n",
    "print(isUnique(S5))\n",
    "print(isUnique(S6))\n",
    "print(isUnique(S7))"
   ]
  },
  {
   "cell_type": "markdown",
   "metadata": {},
   "source": [
    "Time O(n) (search in set in O(1) on average)\n",
    "\n",
    "Space O(1)"
   ]
  },
  {
   "cell_type": "code",
   "execution_count": 11,
   "metadata": {},
   "outputs": [],
   "source": [
    "#1.2 Given two strings, check if one is the permutation of the other\n",
    "def isPermutation(S1, S2):\n",
    "    if (S1 == '') and (S2 == ''):\n",
    "        return True\n",
    "    D1 = {}\n",
    "    D2 = {}\n",
    "    \n",
    "    for char in S1:\n",
    "        if char in D1:\n",
    "            D1[char] += 1\n",
    "        else:\n",
    "            D1[char] = 1\n",
    "    \n",
    "    for char in S2:\n",
    "        if char in D2:\n",
    "            D2[char] += 1\n",
    "        else:\n",
    "            D2[char] = 1\n",
    "            \n",
    "    return D1 == D2"
   ]
  },
  {
   "cell_type": "code",
   "execution_count": 13,
   "metadata": {},
   "outputs": [
    {
     "name": "stdout",
     "output_type": "stream",
     "text": [
      "True\n",
      "False\n",
      "True\n",
      "False\n",
      "True\n",
      "False\n"
     ]
    }
   ],
   "source": [
    "S1 = ''\n",
    "S2 = 'qwert'\n",
    "S3 = 'trewq'\n",
    "S4 = 'qwerqwerqwer'\n",
    "S5 = 'qwerrewqweqr'\n",
    "S6 = 'qwerrewqweqq'\n",
    "\n",
    "print(isPermutation(S1, S1))\n",
    "print(isPermutation(S1, S2))\n",
    "print(isPermutation(S2, S3))\n",
    "print(isPermutation(S2, S4))\n",
    "print(isPermutation(S4, S5))\n",
    "print(isPermutation(S5, S6))"
   ]
  },
  {
   "cell_type": "markdown",
   "metadata": {},
   "source": [
    "Time O(n)\n",
    "\n",
    "Space O(1)"
   ]
  },
  {
   "cell_type": "code",
   "execution_count": 15,
   "metadata": {},
   "outputs": [],
   "source": [
    "#1.3 URLify - replace space with %20 - assumption if consicutive spaces replace each space\n",
    "def URLify(S):\n",
    "    out = ''\n",
    "    for char in S:\n",
    "        if char == ' ':\n",
    "            out = out + '%20'\n",
    "        else:\n",
    "            out = out + char\n",
    "    return out"
   ]
  },
  {
   "cell_type": "code",
   "execution_count": 17,
   "metadata": {},
   "outputs": [
    {
     "name": "stdout",
     "output_type": "stream",
     "text": [
      "%20\n",
      "\n",
      "%20%20qwe%20rt%20%20\n",
      "trewq\n",
      "qwer%20%20%20qwe%20%20rqwer%20%20%20\n",
      "qwe%20r%20r%20e%20w%20qweqr\n",
      "qwerrewqweqq%20%20%20\n"
     ]
    }
   ],
   "source": [
    "S1 = ' '\n",
    "S2 = ''\n",
    "S3 = '  qwe rt  '\n",
    "S4 = 'trewq'\n",
    "S5 = 'qwer   qwe  rqwer   '\n",
    "S6 = 'qwe r r e w qweqr'\n",
    "S7 = 'qwerrewqweqq   '\n",
    "\n",
    "print(URLify(S1))\n",
    "print(URLify(S2))\n",
    "print(URLify(S3))\n",
    "print(URLify(S4))\n",
    "print(URLify(S5))\n",
    "print(URLify(S6))\n",
    "print(URLify(S7))"
   ]
  },
  {
   "cell_type": "markdown",
   "metadata": {},
   "source": [
    "Time O(n)\n",
    "\n",
    "Space O(n)\n",
    "\n",
    "Can reduce space by in-place change if array is used (strings are immutable)"
   ]
  },
  {
   "cell_type": "code",
   "execution_count": null,
   "metadata": {},
   "outputs": [],
   "source": [
    "#1.4"
   ]
  }
 ],
 "metadata": {
  "kernelspec": {
   "display_name": "Python 3",
   "language": "python",
   "name": "python3"
  },
  "language_info": {
   "codemirror_mode": {
    "name": "ipython",
    "version": 3
   },
   "file_extension": ".py",
   "mimetype": "text/x-python",
   "name": "python",
   "nbconvert_exporter": "python",
   "pygments_lexer": "ipython3",
   "version": "3.7.6"
  }
 },
 "nbformat": 4,
 "nbformat_minor": 4
}
