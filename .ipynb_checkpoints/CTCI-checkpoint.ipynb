{
 "cells": [
  {
   "cell_type": "code",
   "execution_count": 1,
   "metadata": {},
   "outputs": [],
   "source": [
    "import numpy as np\n",
    "import pandas as pd"
   ]
  },
  {
   "cell_type": "markdown",
   "metadata": {},
   "source": [
    "# Chapter 1 - Arrays and Strings"
   ]
  },
  {
   "cell_type": "code",
   "execution_count": 9,
   "metadata": {},
   "outputs": [],
   "source": [
    "# 1.1 determine if a string has all unique characters\n",
    "def isUnique(S):\n",
    "    if S == \"\":\n",
    "        return True\n",
    "    chars = set()\n",
    "    for char in S:\n",
    "        if char in chars:\n",
    "            return False\n",
    "        chars.add(char)\n",
    "    return True"
   ]
  },
  {
   "cell_type": "code",
   "execution_count": 10,
   "metadata": {},
   "outputs": [
    {
     "name": "stdout",
     "output_type": "stream",
     "text": [
      "True\n",
      "False\n",
      "True\n",
      "False\n",
      "False\n",
      "False\n",
      "True\n"
     ]
    }
   ],
   "source": [
    "S1 = ''\n",
    "S2 = 'test'\n",
    "S3 = 'qwertyui12345678zxcvbnm'\n",
    "S4 = 'wwerty'\n",
    "S5 = 'werrty'\n",
    "S6 = 'wertyy'\n",
    "S7 = 'qwerty'\n",
    "\n",
    "print(isUnique(S1))\n",
    "print(isUnique(S2))\n",
    "print(isUnique(S3))\n",
    "print(isUnique(S4))\n",
    "print(isUnique(S5))\n",
    "print(isUnique(S6))\n",
    "print(isUnique(S7))"
   ]
  },
  {
   "cell_type": "markdown",
   "metadata": {},
   "source": [
    "Time O(n) (search in set in O(1) on average)\n",
    "\n",
    "Space O(1)"
   ]
  },
  {
   "cell_type": "code",
   "execution_count": null,
   "metadata": {},
   "outputs": [],
   "source": []
  }
 ],
 "metadata": {
  "kernelspec": {
   "display_name": "Python 3",
   "language": "python",
   "name": "python3"
  },
  "language_info": {
   "codemirror_mode": {
    "name": "ipython",
    "version": 3
   },
   "file_extension": ".py",
   "mimetype": "text/x-python",
   "name": "python",
   "nbconvert_exporter": "python",
   "pygments_lexer": "ipython3",
   "version": "3.7.6"
  }
 },
 "nbformat": 4,
 "nbformat_minor": 4
}
