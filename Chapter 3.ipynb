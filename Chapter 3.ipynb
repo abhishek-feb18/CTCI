{
 "cells": [
  {
   "cell_type": "markdown",
   "metadata": {},
   "source": [
    "# Chapter 3 - Stacks and Queues"
   ]
  },
  {
   "cell_type": "code",
   "execution_count": 157,
   "metadata": {},
   "outputs": [],
   "source": [
    "#3.1 Use one array to implement 3 stacks\n",
    "# We will use 3 pointers\n",
    "class threeInOne():\n",
    "    def __init__(self, master, number):\n",
    "        self.i = 0\n",
    "        self.place = number - 1\n",
    "        self.master = master\n",
    "    \n",
    "    def push(self, item):\n",
    "        filled = len(self.master) // 3\n",
    "        self.i += 1\n",
    "        if filled < self.i:\n",
    "            self.master.extend([None, None, None])\n",
    "        self.master[(self.i*3) - 3 + self.place] = item\n",
    "        \n",
    "    def pop(self):\n",
    "        if self.i > 0:\n",
    "            getIndex = (self.i*3) - 3 + self.place\n",
    "            out = self.master[getIndex]\n",
    "            self.master[getIndex] = None\n",
    "            self.i -= 1\n",
    "            if self.master[-3:] == [None, None, None]:\n",
    "\n",
    "                #self.master = self.master[:-3]\n",
    "                #this does not work... why?????\n",
    "\n",
    "\n",
    "                self.master.pop()\n",
    "                self.master.pop()\n",
    "                self.master.pop()\n",
    "\n",
    "            return out\n",
    "        return None\n",
    "    \n",
    "    def peek(self):\n",
    "        getIndex = (self.i*3) - 3 + self.place\n",
    "        return self.master[getIndex]\n",
    "    \n",
    "    \n",
    "    def isEmpty(self):\n",
    "        return (self.i == 0)"
   ]
  },
  {
   "cell_type": "code",
   "execution_count": 165,
   "metadata": {},
   "outputs": [],
   "source": [
    "master = []\n",
    "s1 = threeInOne(master, 1)\n",
    "s2 = threeInOne(master, 2)\n",
    "s3 = threeInOne(master, 3)"
   ]
  },
  {
   "cell_type": "code",
   "execution_count": 166,
   "metadata": {},
   "outputs": [
    {
     "data": {
      "text/plain": [
       "4"
      ]
     },
     "execution_count": 166,
     "metadata": {},
     "output_type": "execute_result"
    }
   ],
   "source": [
    "s1.push(1)\n",
    "s1.push(2)\n",
    "s1.push(3)\n",
    "s1.push(4)\n",
    "s2.push(5)\n",
    "s2.push(6)\n",
    "s2.push(7)\n",
    "s2.push(8)\n",
    "s3.push(9)\n",
    "s2.pop()\n",
    "s3.pop()\n",
    "s1.pop()"
   ]
  },
  {
   "cell_type": "code",
   "execution_count": 167,
   "metadata": {},
   "outputs": [
    {
     "data": {
      "text/plain": [
       "[1, 5, None, 2, 6, None, 3, 7, None]"
      ]
     },
     "execution_count": 167,
     "metadata": {},
     "output_type": "execute_result"
    }
   ],
   "source": [
    "master"
   ]
  },
  {
   "cell_type": "code",
   "execution_count": 168,
   "metadata": {},
   "outputs": [],
   "source": [
    "a = s3.pop()"
   ]
  },
  {
   "cell_type": "code",
   "execution_count": 169,
   "metadata": {},
   "outputs": [
    {
     "name": "stdout",
     "output_type": "stream",
     "text": [
      "None\n"
     ]
    }
   ],
   "source": [
    "print(a)"
   ]
  },
  {
   "cell_type": "code",
   "execution_count": null,
   "metadata": {},
   "outputs": [],
   "source": []
  }
 ],
 "metadata": {
  "kernelspec": {
   "display_name": "Python 3",
   "language": "python",
   "name": "python3"
  },
  "language_info": {
   "codemirror_mode": {
    "name": "ipython",
    "version": 3
   },
   "file_extension": ".py",
   "mimetype": "text/x-python",
   "name": "python",
   "nbconvert_exporter": "python",
   "pygments_lexer": "ipython3",
   "version": "3.7.6"
  }
 },
 "nbformat": 4,
 "nbformat_minor": 4
}
