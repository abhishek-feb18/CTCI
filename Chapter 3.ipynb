{
 "cells": [
  {
   "cell_type": "markdown",
   "metadata": {},
   "source": [
    "# Chapter 3 - Stacks and Queues"
   ]
  },
  {
   "cell_type": "code",
   "execution_count": 157,
   "metadata": {},
   "outputs": [],
   "source": [
    "#3.1 Use one array to implement 3 stacks\n",
    "# We will use 3 pointers\n",
    "class threeInOne():\n",
    "    def __init__(self, master, number):\n",
    "        self.i = 0\n",
    "        self.place = number - 1\n",
    "        self.master = master\n",
    "    \n",
    "    def push(self, item):\n",
    "        filled = len(self.master) // 3\n",
    "        self.i += 1\n",
    "        if filled < self.i:\n",
    "            self.master.extend([None, None, None])\n",
    "        self.master[(self.i*3) - 3 + self.place] = item\n",
    "        \n",
    "    def pop(self):\n",
    "        if self.i > 0:\n",
    "            getIndex = (self.i*3) - 3 + self.place\n",
    "            out = self.master[getIndex]\n",
    "            self.master[getIndex] = None\n",
    "            self.i -= 1\n",
    "            if self.master[-3:] == [None, None, None]:\n",
    "\n",
    "                #self.master = self.master[:-3]\n",
    "                #this does not work... why?????\n",
    "\n",
    "\n",
    "                self.master.pop()\n",
    "                self.master.pop()\n",
    "                self.master.pop()\n",
    "\n",
    "            return out\n",
    "        return None\n",
    "    \n",
    "    def peek(self):\n",
    "        getIndex = (self.i*3) - 3 + self.place\n",
    "        return self.master[getIndex]\n",
    "    \n",
    "    \n",
    "    def isEmpty(self):\n",
    "        return (self.i == 0)"
   ]
  },
  {
   "cell_type": "code",
   "execution_count": 165,
   "metadata": {},
   "outputs": [],
   "source": [
    "master = []\n",
    "s1 = threeInOne(master, 1)\n",
    "s2 = threeInOne(master, 2)\n",
    "s3 = threeInOne(master, 3)"
   ]
  },
  {
   "cell_type": "code",
   "execution_count": 166,
   "metadata": {},
   "outputs": [
    {
     "data": {
      "text/plain": [
       "4"
      ]
     },
     "execution_count": 166,
     "metadata": {},
     "output_type": "execute_result"
    }
   ],
   "source": [
    "s1.push(1)\n",
    "s1.push(2)\n",
    "s1.push(3)\n",
    "s1.push(4)\n",
    "s2.push(5)\n",
    "s2.push(6)\n",
    "s2.push(7)\n",
    "s2.push(8)\n",
    "s3.push(9)\n",
    "s2.pop()\n",
    "s3.pop()\n",
    "s1.pop()"
   ]
  },
  {
   "cell_type": "code",
   "execution_count": 167,
   "metadata": {},
   "outputs": [
    {
     "data": {
      "text/plain": [
       "[1, 5, None, 2, 6, None, 3, 7, None]"
      ]
     },
     "execution_count": 167,
     "metadata": {},
     "output_type": "execute_result"
    }
   ],
   "source": [
    "master"
   ]
  },
  {
   "cell_type": "code",
   "execution_count": 168,
   "metadata": {},
   "outputs": [],
   "source": [
    "a = s3.pop()"
   ]
  },
  {
   "cell_type": "code",
   "execution_count": 169,
   "metadata": {},
   "outputs": [
    {
     "name": "stdout",
     "output_type": "stream",
     "text": [
      "None\n"
     ]
    }
   ],
   "source": [
    "print(a)"
   ]
  },
  {
   "cell_type": "code",
   "execution_count": 170,
   "metadata": {},
   "outputs": [],
   "source": [
    "#3.2"
   ]
  },
  {
   "cell_type": "code",
   "execution_count": 261,
   "metadata": {},
   "outputs": [],
   "source": [
    "#3.3 Set of stacks - creates a new stack once previous one exceeds capacity, but behaves as a single stack\n",
    "# We will use dictionary to store the stacks\n",
    "class setOfStack():\n",
    "    def __init__(self, capacity):\n",
    "        self.i = 0\n",
    "        self.master = dict()\n",
    "        self.master[0] = []\n",
    "        self.capacity = capacity\n",
    "        \n",
    "    def push(self, item):\n",
    "        if len(self.master[self.i]) >= self.capacity:\n",
    "            self.i += 1\n",
    "            self.master[self.i] = []\n",
    "        self.master[self.i].append(item)\n",
    "    \n",
    "    def pop(self):\n",
    "        while len(self.master[self.i]) == 0:\n",
    "            del(self.master[self.i])\n",
    "            self.i -= 1\n",
    "            if self.i == -1:\n",
    "                self.master[0] = []\n",
    "                break\n",
    "        if self.i == -1:\n",
    "            self.i = 0\n",
    "            return None\n",
    "        return self.master[self.i].pop()\n",
    "        \n",
    "    \n",
    "    def peek(self):\n",
    "        while len(self.master[self.i]) == 0:\n",
    "            del(self.master[self.i])\n",
    "            self.i -= 1\n",
    "            if self.i == -1:\n",
    "                self.master[0] = []\n",
    "                break\n",
    "        if self.i == -1:\n",
    "            self.i = 0\n",
    "            return None\n",
    "        return self.master[self.i][-1]\n",
    "    \n",
    "    def popAt(self, index):\n",
    "        try:\n",
    "            return self.master[index].pop()\n",
    "        except:\n",
    "            return None"
   ]
  },
  {
   "cell_type": "code",
   "execution_count": 262,
   "metadata": {},
   "outputs": [],
   "source": [
    "myStack = setOfStack(3)"
   ]
  },
  {
   "cell_type": "code",
   "execution_count": 263,
   "metadata": {},
   "outputs": [],
   "source": [
    "myStack.push(1)\n",
    "myStack.push(2)\n",
    "myStack.push(3)\n",
    "myStack.push(4)\n",
    "myStack.push(5)\n",
    "myStack.push(6)\n",
    "myStack.push(7)\n",
    "myStack.push(8)\n",
    "myStack.push(9)\n",
    "myStack.push(10)\n",
    "myStack.push(11)\n",
    "myStack.push(12)\n",
    "myStack.push(13)\n",
    "myStack.push(14)\n",
    "myStack.push(15)\n",
    "myStack.push(16)"
   ]
  },
  {
   "cell_type": "code",
   "execution_count": 264,
   "metadata": {},
   "outputs": [
    {
     "data": {
      "text/plain": [
       "{0: [1, 2, 3],\n",
       " 1: [4, 5, 6],\n",
       " 2: [7, 8, 9],\n",
       " 3: [10, 11, 12],\n",
       " 4: [13, 14, 15],\n",
       " 5: [16]}"
      ]
     },
     "execution_count": 264,
     "metadata": {},
     "output_type": "execute_result"
    }
   ],
   "source": [
    "myStack.master"
   ]
  },
  {
   "cell_type": "code",
   "execution_count": 265,
   "metadata": {},
   "outputs": [
    {
     "data": {
      "text/plain": [
       "16"
      ]
     },
     "execution_count": 265,
     "metadata": {},
     "output_type": "execute_result"
    }
   ],
   "source": [
    "myStack.pop()"
   ]
  },
  {
   "cell_type": "code",
   "execution_count": 266,
   "metadata": {},
   "outputs": [
    {
     "data": {
      "text/plain": [
       "15"
      ]
     },
     "execution_count": 266,
     "metadata": {},
     "output_type": "execute_result"
    }
   ],
   "source": [
    "myStack.pop()"
   ]
  },
  {
   "cell_type": "code",
   "execution_count": 267,
   "metadata": {},
   "outputs": [
    {
     "data": {
      "text/plain": [
       "14"
      ]
     },
     "execution_count": 267,
     "metadata": {},
     "output_type": "execute_result"
    }
   ],
   "source": [
    "myStack.pop()"
   ]
  },
  {
   "cell_type": "code",
   "execution_count": 268,
   "metadata": {},
   "outputs": [
    {
     "data": {
      "text/plain": [
       "13"
      ]
     },
     "execution_count": 268,
     "metadata": {},
     "output_type": "execute_result"
    }
   ],
   "source": [
    "myStack.pop()"
   ]
  },
  {
   "cell_type": "code",
   "execution_count": 269,
   "metadata": {},
   "outputs": [
    {
     "data": {
      "text/plain": [
       "12"
      ]
     },
     "execution_count": 269,
     "metadata": {},
     "output_type": "execute_result"
    }
   ],
   "source": [
    "myStack.peek()"
   ]
  },
  {
   "cell_type": "code",
   "execution_count": 270,
   "metadata": {},
   "outputs": [
    {
     "data": {
      "text/plain": [
       "12"
      ]
     },
     "execution_count": 270,
     "metadata": {},
     "output_type": "execute_result"
    }
   ],
   "source": [
    "myStack.peek()"
   ]
  },
  {
   "cell_type": "code",
   "execution_count": 271,
   "metadata": {},
   "outputs": [
    {
     "data": {
      "text/plain": [
       "12"
      ]
     },
     "execution_count": 271,
     "metadata": {},
     "output_type": "execute_result"
    }
   ],
   "source": [
    "myStack.pop()"
   ]
  },
  {
   "cell_type": "code",
   "execution_count": 272,
   "metadata": {},
   "outputs": [
    {
     "data": {
      "text/plain": [
       "{0: [1, 2, 3], 1: [4, 5, 6], 2: [7, 8, 9], 3: [10, 11]}"
      ]
     },
     "execution_count": 272,
     "metadata": {},
     "output_type": "execute_result"
    }
   ],
   "source": [
    "myStack.master"
   ]
  },
  {
   "cell_type": "code",
   "execution_count": 273,
   "metadata": {},
   "outputs": [
    {
     "data": {
      "text/plain": [
       "9"
      ]
     },
     "execution_count": 273,
     "metadata": {},
     "output_type": "execute_result"
    }
   ],
   "source": [
    "myStack.popAt(2)"
   ]
  },
  {
   "cell_type": "code",
   "execution_count": 274,
   "metadata": {},
   "outputs": [
    {
     "data": {
      "text/plain": [
       "8"
      ]
     },
     "execution_count": 274,
     "metadata": {},
     "output_type": "execute_result"
    }
   ],
   "source": [
    "myStack.popAt(2)"
   ]
  },
  {
   "cell_type": "code",
   "execution_count": 275,
   "metadata": {},
   "outputs": [
    {
     "data": {
      "text/plain": [
       "7"
      ]
     },
     "execution_count": 275,
     "metadata": {},
     "output_type": "execute_result"
    }
   ],
   "source": [
    "myStack.popAt(2)"
   ]
  },
  {
   "cell_type": "code",
   "execution_count": 276,
   "metadata": {},
   "outputs": [],
   "source": [
    "myStack.popAt(2)"
   ]
  },
  {
   "cell_type": "code",
   "execution_count": 277,
   "metadata": {},
   "outputs": [],
   "source": [
    "myStack.popAt(2)"
   ]
  },
  {
   "cell_type": "code",
   "execution_count": 288,
   "metadata": {},
   "outputs": [],
   "source": [
    "myStack.pop()"
   ]
  },
  {
   "cell_type": "code",
   "execution_count": 289,
   "metadata": {},
   "outputs": [],
   "source": [
    "myStack.push(2)"
   ]
  },
  {
   "cell_type": "code",
   "execution_count": 290,
   "metadata": {},
   "outputs": [
    {
     "data": {
      "text/plain": [
       "{0: [2]}"
      ]
     },
     "execution_count": 290,
     "metadata": {},
     "output_type": "execute_result"
    }
   ],
   "source": [
    "myStack.master"
   ]
  },
  {
   "cell_type": "code",
   "execution_count": 299,
   "metadata": {},
   "outputs": [],
   "source": [
    "#3.4 Implement Queue via 2 stacks\n",
    "class MyQueue():\n",
    "    def __init__(self):\n",
    "        self.stack1 = []\n",
    "        self.stack2 = []\n",
    "    \n",
    "    def add(self, item):\n",
    "        while len(self.stack1) > 0:\n",
    "            self.stack2.append(self.stack1.pop())\n",
    "        self.stack1.append(item)\n",
    "        while len(self.stack2) > 0:\n",
    "            self.stack1.append(self.stack2.pop())\n",
    "    \n",
    "    def remove(self):\n",
    "        try:\n",
    "            return self.stack1.pop()\n",
    "        except:\n",
    "            return None\n",
    "    \n",
    "    def peek(self):\n",
    "        try:\n",
    "            return self.stack1[-1]\n",
    "        except:\n",
    "            return None\n",
    "    \n",
    "    def isEmpty(self):\n",
    "        return not(len(self.stack1))"
   ]
  },
  {
   "cell_type": "code",
   "execution_count": 300,
   "metadata": {},
   "outputs": [],
   "source": [
    "queue = MyQueue()"
   ]
  },
  {
   "cell_type": "code",
   "execution_count": 302,
   "metadata": {},
   "outputs": [],
   "source": [
    "queue.add(1)"
   ]
  },
  {
   "cell_type": "code",
   "execution_count": 303,
   "metadata": {},
   "outputs": [],
   "source": [
    "queue.add(2)\n",
    "queue.add(3)\n",
    "queue.add(4)\n",
    "queue.add(5)\n",
    "queue.add(6)\n",
    "queue.add(7)\n",
    "queue.add(8)\n",
    "queue.add(9)\n",
    "queue.add(10)\n",
    "queue.add(11)"
   ]
  },
  {
   "cell_type": "code",
   "execution_count": 304,
   "metadata": {},
   "outputs": [
    {
     "data": {
      "text/plain": [
       "1"
      ]
     },
     "execution_count": 304,
     "metadata": {},
     "output_type": "execute_result"
    }
   ],
   "source": [
    "queue.remove()"
   ]
  },
  {
   "cell_type": "code",
   "execution_count": 305,
   "metadata": {},
   "outputs": [
    {
     "data": {
      "text/plain": [
       "2"
      ]
     },
     "execution_count": 305,
     "metadata": {},
     "output_type": "execute_result"
    }
   ],
   "source": [
    "queue.remove()"
   ]
  },
  {
   "cell_type": "code",
   "execution_count": 323,
   "metadata": {},
   "outputs": [],
   "source": [
    "queue.remove()"
   ]
  },
  {
   "cell_type": "code",
   "execution_count": null,
   "metadata": {},
   "outputs": [],
   "source": []
  }
 ],
 "metadata": {
  "kernelspec": {
   "display_name": "Python 3",
   "language": "python",
   "name": "python3"
  },
  "language_info": {
   "codemirror_mode": {
    "name": "ipython",
    "version": 3
   },
   "file_extension": ".py",
   "mimetype": "text/x-python",
   "name": "python",
   "nbconvert_exporter": "python",
   "pygments_lexer": "ipython3",
   "version": "3.7.6"
  }
 },
 "nbformat": 4,
 "nbformat_minor": 4
}
